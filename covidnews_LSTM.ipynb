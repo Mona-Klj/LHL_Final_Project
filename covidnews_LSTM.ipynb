{
 "cells": [
  {
   "cell_type": "markdown",
   "id": "37eb6a86-3f4b-40ad-aabe-7e397b83f8de",
   "metadata": {},
   "source": [
    "## Covid-19 Fake news Detection - LSTM"
   ]
  },
  {
   "cell_type": "markdown",
   "id": "ffef3389-9e81-47f8-ac1b-d3659579e5cc",
   "metadata": {},
   "source": [
    "### Importing required library"
   ]
  },
  {
   "cell_type": "code",
   "execution_count": 1,
   "id": "62a59ec3-4275-4eaa-955c-a4ea6a24018b",
   "metadata": {},
   "outputs": [],
   "source": [
    "import pandas as pd\n",
    "import numpy as np\n",
    "import matplotlib.pyplot as plt \n",
    "import tensorflow as tf\n",
    "from tensorflow.keras.layers import Embedding\n",
    "from tensorflow.keras.preprocessing.sequence import pad_sequences\n",
    "from tensorflow.keras.models import Sequential\n",
    "from tensorflow.keras.preprocessing.text import one_hot\n",
    "from tensorflow.keras.layers import LSTM\n",
    "from tensorflow.keras.layers import Dense\n",
    "from tensorflow.keras.layers import Bidirectional\n",
    "from tensorflow.keras.layers import Dropout\n",
    "import nltk\n",
    "import re\n",
    "from nltk.corpus import stopwords\n",
    "from nltk.stem.porter import PorterStemmer\n",
    "from sklearn.model_selection import train_test_split\n",
    "from sklearn.metrics import confusion_matrix\n",
    "from sklearn.metrics import accuracy_score\n",
    "from sklearn.metrics import classification_report"
   ]
  },
  {
   "cell_type": "markdown",
   "id": "3f3be4d1-0f98-44bb-b4f1-bf629eeadf01",
   "metadata": {},
   "source": [
    "### Loading dataset and giving name to columns"
   ]
  },
  {
   "cell_type": "code",
   "execution_count": 2,
   "id": "8efd37bc-afa4-45cc-b59d-af987aa3956b",
   "metadata": {},
   "outputs": [],
   "source": [
    "df=pd.read_csv('covidnews.txt', sep=\"\\t\", header=None)\n",
    "df.columns = [\"label\", \"text\"]"
   ]
  },
  {
   "cell_type": "code",
   "execution_count": 3,
   "id": "83cdeff9-4233-4ff4-a792-d05d002dbc66",
   "metadata": {},
   "outputs": [
    {
     "data": {
      "text/html": [
       "<div>\n",
       "<style scoped>\n",
       "    .dataframe tbody tr th:only-of-type {\n",
       "        vertical-align: middle;\n",
       "    }\n",
       "\n",
       "    .dataframe tbody tr th {\n",
       "        vertical-align: top;\n",
       "    }\n",
       "\n",
       "    .dataframe thead th {\n",
       "        text-align: right;\n",
       "    }\n",
       "</style>\n",
       "<table border=\"1\" class=\"dataframe\">\n",
       "  <thead>\n",
       "    <tr style=\"text-align: right;\">\n",
       "      <th></th>\n",
       "      <th>label</th>\n",
       "      <th>text</th>\n",
       "    </tr>\n",
       "  </thead>\n",
       "  <tbody>\n",
       "    <tr>\n",
       "      <th>0</th>\n",
       "      <td>0</td>\n",
       "      <td>live launch of the access to covid tools act...</td>\n",
       "    </tr>\n",
       "    <tr>\n",
       "      <th>1</th>\n",
       "      <td>0</td>\n",
       "      <td>live one world togetherathome covid</td>\n",
       "    </tr>\n",
       "    <tr>\n",
       "      <th>2</th>\n",
       "      <td>1</td>\n",
       "      <td>dettol kills the coronavirus so it is not new</td>\n",
       "    </tr>\n",
       "    <tr>\n",
       "      <th>3</th>\n",
       "      <td>1</td>\n",
       "      <td>one thing for sure drink enough bleach and t...</td>\n",
       "    </tr>\n",
       "    <tr>\n",
       "      <th>4</th>\n",
       "      <td>1</td>\n",
       "      <td>isn t that horrible china has a patent on th...</td>\n",
       "    </tr>\n",
       "  </tbody>\n",
       "</table>\n",
       "</div>"
      ],
      "text/plain": [
       "   label                                               text\n",
       "0      0    live launch of the access to covid tools act...\n",
       "1      0                live one world togetherathome covid\n",
       "2      1      dettol kills the coronavirus so it is not new\n",
       "3      1    one thing for sure drink enough bleach and t...\n",
       "4      1    isn t that horrible china has a patent on th..."
      ]
     },
     "execution_count": 3,
     "metadata": {},
     "output_type": "execute_result"
    }
   ],
   "source": [
    "df.head()"
   ]
  },
  {
   "cell_type": "code",
   "execution_count": 4,
   "id": "30731345-9c38-425a-8b4f-b227b7e002b2",
   "metadata": {},
   "outputs": [
    {
     "data": {
      "text/plain": [
       "label    0\n",
       "text     0\n",
       "dtype: int64"
      ]
     },
     "execution_count": 4,
     "metadata": {},
     "output_type": "execute_result"
    }
   ],
   "source": [
    "# counting the number of missing values in the dataset\n",
    "df.isnull().sum()"
   ]
  },
  {
   "cell_type": "code",
   "execution_count": 5,
   "id": "40a46d26-173b-47f1-a5c5-9289a4aa435b",
   "metadata": {},
   "outputs": [],
   "source": [
    "## Get the Independent Features\n",
    "\n",
    "X=df.drop('label',axis=1)"
   ]
  },
  {
   "cell_type": "code",
   "execution_count": 6,
   "id": "1cacca0a-ff2b-45d2-9c0b-66da55b10141",
   "metadata": {},
   "outputs": [],
   "source": [
    "## Get the Dependent features\n",
    "y=df['label']"
   ]
  },
  {
   "cell_type": "code",
   "execution_count": 7,
   "id": "da305cc9-2d25-41e2-b0c7-33821e392ba3",
   "metadata": {},
   "outputs": [
    {
     "data": {
      "text/plain": [
       "(22000, 1)"
      ]
     },
     "execution_count": 7,
     "metadata": {},
     "output_type": "execute_result"
    }
   ],
   "source": [
    "X.shape"
   ]
  },
  {
   "cell_type": "code",
   "execution_count": 8,
   "id": "085f9aa4-ef88-4edc-833d-37306db6798b",
   "metadata": {},
   "outputs": [
    {
     "data": {
      "text/plain": [
       "(22000,)"
      ]
     },
     "execution_count": 8,
     "metadata": {},
     "output_type": "execute_result"
    }
   ],
   "source": [
    "y.shape"
   ]
  },
  {
   "cell_type": "code",
   "execution_count": 9,
   "id": "484a7088-3408-4409-94fc-ad71fd7030bc",
   "metadata": {},
   "outputs": [],
   "source": [
    "### Vocabulary size\n",
    "voc_size=5000"
   ]
  },
  {
   "cell_type": "code",
   "execution_count": 10,
   "id": "65a8dd91-a401-4608-a341-6e0f7921f3b1",
   "metadata": {},
   "outputs": [],
   "source": [
    "messages=X.copy()"
   ]
  },
  {
   "cell_type": "code",
   "execution_count": 11,
   "id": "e694c950-2b55-4b5b-a88b-be05ed1041f3",
   "metadata": {},
   "outputs": [
    {
     "data": {
      "text/plain": [
       "'  live one world togetherathome covid'"
      ]
     },
     "execution_count": 11,
     "metadata": {},
     "output_type": "execute_result"
    }
   ],
   "source": [
    "messages['text'][1]"
   ]
  },
  {
   "cell_type": "code",
   "execution_count": 12,
   "id": "801ddb73-3810-4709-86f8-b3b8626b4570",
   "metadata": {},
   "outputs": [],
   "source": [
    "messages.reset_index(inplace=True)"
   ]
  },
  {
   "cell_type": "markdown",
   "id": "268f32cc-772d-4285-9f1f-25e78a58d6a5",
   "metadata": {},
   "source": [
    "### Preprocessing the data using NLP "
   ]
  },
  {
   "cell_type": "code",
   "execution_count": 13,
   "id": "c1479578-6c34-47e1-b3ef-9f2e1d07b427",
   "metadata": {
    "scrolled": true,
    "tags": []
   },
   "outputs": [],
   "source": [
    "### Dataset Preprocessing\n",
    "\n",
    "ps = PorterStemmer()\n",
    "corpus = []\n",
    "for i in range(0, len(messages)):\n",
    "    #print(i)\n",
    "    review = re.sub('[^a-zA-Z]', ' ', messages['text'][i])\n",
    "    review = review.lower()\n",
    "    review = review.split()\n",
    "    \n",
    "    review = [ps.stem(word) for word in review if not word in stopwords.words('english')]\n",
    "    review = ' '.join(review)\n",
    "    corpus.append(review)"
   ]
  },
  {
   "cell_type": "code",
   "execution_count": 14,
   "id": "2acb0842-3c13-4807-8f7b-807376e1c23f",
   "metadata": {
    "scrolled": true,
    "tags": []
   },
   "outputs": [],
   "source": [
    "#corpus"
   ]
  },
  {
   "cell_type": "code",
   "execution_count": 15,
   "id": "510d72ce-b09f-444c-9fcc-f1d2f2e49dc0",
   "metadata": {
    "scrolled": true,
    "tags": []
   },
   "outputs": [],
   "source": [
    "onehot_repr=[one_hot(words,voc_size)for words in corpus] \n",
    "#onehot_repr"
   ]
  },
  {
   "cell_type": "code",
   "execution_count": 16,
   "id": "b5dc1ffd-5b78-4b90-aacf-e7eea401c35d",
   "metadata": {},
   "outputs": [
    {
     "name": "stdout",
     "output_type": "stream",
     "text": [
      "[[   0    0    0 ... 4680  738 4699]\n",
      " [   0    0    0 ... 2284 2849 3530]\n",
      " [   0    0    0 ... 3568 1188 1382]\n",
      " ...\n",
      " [   0    0    0 ...  401 1450 3530]\n",
      " [   0    0    0 ... 3936 3579 2814]\n",
      " [   0    0    0 ... 1339 1417  323]]\n"
     ]
    }
   ],
   "source": [
    "sent_length=30\n",
    "embedded_docs=pad_sequences(onehot_repr,padding='pre',maxlen=sent_length)\n",
    "print(embedded_docs)"
   ]
  },
  {
   "cell_type": "code",
   "execution_count": 17,
   "id": "1081c079-bb7b-45f7-b04f-e9fc3666ae7d",
   "metadata": {},
   "outputs": [
    {
     "data": {
      "text/plain": [
       "array([   0,    0,    0,    0,    0,    0,    0,    0,    0,    0,    0,\n",
       "          0,    0,    0,    0,    0,    0,    0,    0,    0,    0,    0,\n",
       "          0, 3875, 2384, 1818, 3530, 4680,  738, 4699])"
      ]
     },
     "execution_count": 17,
     "metadata": {},
     "output_type": "execute_result"
    }
   ],
   "source": [
    "embedded_docs[0]"
   ]
  },
  {
   "cell_type": "markdown",
   "id": "03f7d8aa-700e-4fec-9ed6-d9f698d1df14",
   "metadata": {},
   "source": [
    "### Defining Model-LSTM"
   ]
  },
  {
   "cell_type": "code",
   "execution_count": 18,
   "id": "79afc8af-f561-4216-8e0b-94daadbdfc35",
   "metadata": {},
   "outputs": [
    {
     "name": "stdout",
     "output_type": "stream",
     "text": [
      "Model: \"sequential\"\n",
      "_________________________________________________________________\n",
      " Layer (type)                Output Shape              Param #   \n",
      "=================================================================\n",
      " embedding (Embedding)       (None, 30, 40)            200000    \n",
      "                                                                 \n",
      " bidirectional (Bidirectiona  (None, 200)              112800    \n",
      " l)                                                              \n",
      "                                                                 \n",
      " dropout (Dropout)           (None, 200)               0         \n",
      "                                                                 \n",
      " dense (Dense)               (None, 1)                 201       \n",
      "                                                                 \n",
      "=================================================================\n",
      "Total params: 313,001\n",
      "Trainable params: 313,001\n",
      "Non-trainable params: 0\n",
      "_________________________________________________________________\n",
      "None\n"
     ]
    }
   ],
   "source": [
    "## Creating model\n",
    "embedding_vector_features=40\n",
    "model=Sequential()\n",
    "model.add(Embedding(voc_size,embedding_vector_features,input_length=sent_length))\n",
    "model.add(Bidirectional(LSTM(100)))\n",
    "model.add(Dropout(0.3))\n",
    "model.add(Dense(1,activation='sigmoid'))\n",
    "model.compile(loss='binary_crossentropy',optimizer='adam',metrics=['accuracy'])\n",
    "print(model.summary())"
   ]
  },
  {
   "cell_type": "code",
   "execution_count": 19,
   "id": "7e962798-785c-4508-b13e-830006272504",
   "metadata": {},
   "outputs": [
    {
     "data": {
      "text/plain": [
       "(22000, (22000,))"
      ]
     },
     "execution_count": 19,
     "metadata": {},
     "output_type": "execute_result"
    }
   ],
   "source": [
    "len(embedded_docs),y.shape"
   ]
  },
  {
   "cell_type": "code",
   "execution_count": 20,
   "id": "0376702a-9b5f-4413-8e35-8b9def0f1be9",
   "metadata": {},
   "outputs": [],
   "source": [
    "\n",
    "X_final=np.array(embedded_docs)\n",
    "y_final=np.array(y)"
   ]
  },
  {
   "cell_type": "code",
   "execution_count": 21,
   "id": "13330262-260d-434a-bc7b-83d762e48497",
   "metadata": {},
   "outputs": [
    {
     "data": {
      "text/plain": [
       "((22000, 30), (22000,))"
      ]
     },
     "execution_count": 21,
     "metadata": {},
     "output_type": "execute_result"
    }
   ],
   "source": [
    "X_final.shape,y_final.shape"
   ]
  },
  {
   "cell_type": "code",
   "execution_count": 22,
   "id": "1e39631b-b8b4-474c-8dc9-a7eb234cf3e1",
   "metadata": {},
   "outputs": [],
   "source": [
    "\n",
    "X_train, X_test, y_train, y_test = train_test_split(X_final, y_final, test_size=0.33, random_state=42)"
   ]
  },
  {
   "cell_type": "code",
   "execution_count": 23,
   "id": "53246337-c263-4ca9-bf4b-419c2fa90f2a",
   "metadata": {},
   "outputs": [
    {
     "name": "stdout",
     "output_type": "stream",
     "text": [
      "Epoch 1/20\n",
      "231/231 [==============================] - 20s 66ms/step - loss: 0.2142 - accuracy: 0.9050 - val_loss: 0.0952 - val_accuracy: 0.9687\n",
      "Epoch 2/20\n",
      "231/231 [==============================] - 14s 60ms/step - loss: 0.0651 - accuracy: 0.9817 - val_loss: 0.1142 - val_accuracy: 0.9650\n",
      "Epoch 3/20\n",
      "231/231 [==============================] - 17s 76ms/step - loss: 0.0514 - accuracy: 0.9868 - val_loss: 0.1350 - val_accuracy: 0.9650\n",
      "Epoch 4/20\n",
      "231/231 [==============================] - 19s 82ms/step - loss: 0.0408 - accuracy: 0.9894 - val_loss: 0.1418 - val_accuracy: 0.9599\n",
      "Epoch 5/20\n",
      "231/231 [==============================] - 19s 81ms/step - loss: 0.0272 - accuracy: 0.9931 - val_loss: 0.1554 - val_accuracy: 0.9620\n",
      "Epoch 6/20\n",
      "231/231 [==============================] - 19s 82ms/step - loss: 0.0245 - accuracy: 0.9942 - val_loss: 0.1319 - val_accuracy: 0.9617\n",
      "Epoch 7/20\n",
      "231/231 [==============================] - 19s 81ms/step - loss: 0.0207 - accuracy: 0.9944 - val_loss: 0.1617 - val_accuracy: 0.9590\n",
      "Epoch 8/20\n",
      "231/231 [==============================] - 19s 81ms/step - loss: 0.0192 - accuracy: 0.9955 - val_loss: 0.1400 - val_accuracy: 0.9631\n",
      "Epoch 9/20\n",
      "231/231 [==============================] - 19s 81ms/step - loss: 0.0147 - accuracy: 0.9961 - val_loss: 0.1718 - val_accuracy: 0.9603\n",
      "Epoch 10/20\n",
      "231/231 [==============================] - 19s 81ms/step - loss: 0.0157 - accuracy: 0.9957 - val_loss: 0.1740 - val_accuracy: 0.9569\n",
      "Epoch 11/20\n",
      "231/231 [==============================] - 19s 82ms/step - loss: 0.0114 - accuracy: 0.9968 - val_loss: 0.2265 - val_accuracy: 0.9562\n",
      "Epoch 12/20\n",
      "231/231 [==============================] - 19s 82ms/step - loss: 0.0089 - accuracy: 0.9978 - val_loss: 0.2216 - val_accuracy: 0.9570\n",
      "Epoch 13/20\n",
      "231/231 [==============================] - 19s 82ms/step - loss: 0.0170 - accuracy: 0.9960 - val_loss: 0.2551 - val_accuracy: 0.9550\n",
      "Epoch 14/20\n",
      "231/231 [==============================] - 19s 82ms/step - loss: 0.0086 - accuracy: 0.9982 - val_loss: 0.2662 - val_accuracy: 0.9523\n",
      "Epoch 15/20\n",
      "231/231 [==============================] - 20s 85ms/step - loss: 0.0075 - accuracy: 0.9981 - val_loss: 0.2821 - val_accuracy: 0.9554\n",
      "Epoch 16/20\n",
      "231/231 [==============================] - 19s 84ms/step - loss: 0.0108 - accuracy: 0.9978 - val_loss: 0.2158 - val_accuracy: 0.9576\n",
      "Epoch 17/20\n",
      "231/231 [==============================] - 20s 85ms/step - loss: 0.0053 - accuracy: 0.9984 - val_loss: 0.2665 - val_accuracy: 0.9587\n",
      "Epoch 18/20\n",
      "231/231 [==============================] - 19s 84ms/step - loss: 0.0056 - accuracy: 0.9983 - val_loss: 0.2284 - val_accuracy: 0.9570\n",
      "Epoch 19/20\n",
      "231/231 [==============================] - 19s 84ms/step - loss: 0.0094 - accuracy: 0.9975 - val_loss: 0.2287 - val_accuracy: 0.9590\n",
      "Epoch 20/20\n",
      "231/231 [==============================] - 20s 87ms/step - loss: 0.0059 - accuracy: 0.9982 - val_loss: 0.2347 - val_accuracy: 0.9603\n"
     ]
    }
   ],
   "source": [
    "### Finally Training\n",
    "history = model.fit(X_train,y_train,validation_data=(X_test,y_test),epochs=20,batch_size=64)"
   ]
  },
  {
   "cell_type": "code",
   "execution_count": 24,
   "id": "2ed835f0-4ba7-429f-bfec-161f6c3d4b8d",
   "metadata": {},
   "outputs": [],
   "source": [
    "#y_pred=model.predict_classes(X_test)\n",
    "y_pred = (model.predict(X_test) > 0.5)*1 "
   ]
  },
  {
   "cell_type": "code",
   "execution_count": 25,
   "id": "df7b830a-3463-4f40-a225-b3eca66752df",
   "metadata": {},
   "outputs": [
    {
     "data": {
      "text/plain": [
       "array([[3507,  157],\n",
       "       [ 131, 3465]], dtype=int64)"
      ]
     },
     "execution_count": 25,
     "metadata": {},
     "output_type": "execute_result"
    }
   ],
   "source": [
    "confusion_matrix(y_test,y_pred)"
   ]
  },
  {
   "cell_type": "code",
   "execution_count": 26,
   "id": "e6c313ae-dd12-4ba0-9531-5468d11b38bc",
   "metadata": {},
   "outputs": [
    {
     "data": {
      "text/plain": [
       "0.9603305785123967"
      ]
     },
     "execution_count": 26,
     "metadata": {},
     "output_type": "execute_result"
    }
   ],
   "source": [
    "accuracy_score(y_test,y_pred)"
   ]
  },
  {
   "cell_type": "code",
   "execution_count": 27,
   "id": "a721a156-68d3-47a0-9ccc-827a74524ddd",
   "metadata": {},
   "outputs": [
    {
     "name": "stdout",
     "output_type": "stream",
     "text": [
      "              precision    recall  f1-score   support\n",
      "\n",
      "           0     0.9640    0.9572    0.9606      3664\n",
      "           1     0.9567    0.9636    0.9601      3596\n",
      "\n",
      "    accuracy                         0.9603      7260\n",
      "   macro avg     0.9603    0.9604    0.9603      7260\n",
      "weighted avg     0.9604    0.9603    0.9603      7260\n",
      "\n"
     ]
    }
   ],
   "source": [
    "print(classification_report(y_test,y_pred, digits=4))"
   ]
  },
  {
   "cell_type": "markdown",
   "id": "33c8c8a0-bf15-471b-9251-7e8a9313678c",
   "metadata": {},
   "source": [
    "### Plotting the history of Loss and Accuracy"
   ]
  },
  {
   "cell_type": "code",
   "execution_count": 28,
   "id": "099b79b8-dcf1-4cdc-8cbf-e600f11e23a4",
   "metadata": {},
   "outputs": [
    {
     "data": {
      "image/png": "[encoded data removed]",
      "text/plain": [
       "<Figure size 864x648 with 1 Axes>"
      ]
     },
     "metadata": {
      "needs_background": "light"
     },
     "output_type": "display_data"
    },
    {
     "data": {
      "image/png": "[encoded data removed]",
      "text/plain": [
       "<Figure size 864x648 with 1 Axes>"
      ]
     },
     "metadata": {
      "needs_background": "light"
     },
     "output_type": "display_data"
    }
   ],
   "source": [
    "\n",
    "history_dict = history.history\n",
    "\n",
    "acc = history_dict['accuracy']\n",
    "val_acc = history_dict['val_accuracy']\n",
    "loss = history_dict['loss']\n",
    "val_loss = history_dict['val_loss']\n",
    "epochs = history.epoch\n",
    "\n",
    "plt.figure(figsize=(12,9))\n",
    "plt.plot(epochs, loss, 'r', label='Training loss')\n",
    "plt.plot(epochs, val_loss, 'b', label='Validation loss')\n",
    "plt.title('Training and validation loss', size=20)\n",
    "plt.xlabel('Epochs', size=20)\n",
    "plt.ylabel('Loss', size=20)\n",
    "plt.legend(prop={'size': 20})\n",
    "plt.show()\n",
    "\n",
    "plt.figure(figsize=(12,9))\n",
    "plt.plot(epochs, acc, 'g', label='Training acc')\n",
    "plt.plot(epochs, val_acc, 'b', label='Validation acc')\n",
    "plt.title('Training and validation accuracy', size=20)\n",
    "plt.xlabel('Epochs', size=20)\n",
    "plt.ylabel('Accuracy', size=20)\n",
    "plt.legend(prop={'size': 20})\n",
    "plt.ylim((0.5,1))\n",
    "plt.show()"
   ]
  },
  {
   "cell_type": "code",
   "execution_count": 30,
   "id": "cd6b9bab-96c4-43c7-b991-630570a7a6d7",
   "metadata": {},
   "outputs": [],
   "source": [
    "#from tensorflow.keras.layers import Dropout\n",
    "## Creating model\n",
    "embedding_vector_features=40\n",
    "model=Sequential()\n",
    "model.add(Embedding(voc_size,embedding_vector_features,input_length=sent_length))\n",
    "model.add(Dropout(0.3))\n",
    "model.add(LSTM(100))\n",
    "model.add(Dropout(0.3))\n",
    "model.add(Dense(1,activation='sigmoid'))\n",
    "model.compile(loss='binary_crossentropy',optimizer='adam',metrics=['accuracy'])"
   ]
  },
  {
   "cell_type": "code",
   "execution_count": 31,
   "id": "7eb7c261-e5bd-4f80-b2a5-c05610de16dd",
   "metadata": {},
   "outputs": [
    {
     "name": "stdout",
     "output_type": "stream",
     "text": [
      "Model: \"sequential_1\"\n",
      "_________________________________________________________________\n",
      " Layer (type)                Output Shape              Param #   \n",
      "=================================================================\n",
      " embedding_1 (Embedding)     (None, 30, 40)            200000    \n",
      "                                                                 \n",
      " dropout_1 (Dropout)         (None, 30, 40)            0         \n",
      "                                                                 \n",
      " lstm_1 (LSTM)               (None, 100)               56400     \n",
      "                                                                 \n",
      " dropout_2 (Dropout)         (None, 100)               0         \n",
      "                                                                 \n",
      " dense_1 (Dense)             (None, 1)                 101       \n",
      "                                                                 \n",
      "=================================================================\n",
      "Total params: 256,501\n",
      "Trainable params: 256,501\n",
      "Non-trainable params: 0\n",
      "_________________________________________________________________\n",
      "None\n"
     ]
    }
   ],
   "source": [
    "print(model.summary())"
   ]
  },
  {
   "cell_type": "code",
   "execution_count": 32,
   "id": "913f3b32-0888-48de-9c4b-200731c374ba",
   "metadata": {},
   "outputs": [
    {
     "name": "stdout",
     "output_type": "stream",
     "text": [
      "Epoch 1/10\n",
      "231/231 [==============================] - 12s 42ms/step - loss: 0.2596 - accuracy: 0.8950 - val_loss: 0.1140 - val_accuracy: 0.9635\n",
      "Epoch 2/10\n",
      "231/231 [==============================] - 10s 43ms/step - loss: 0.0859 - accuracy: 0.9727 - val_loss: 0.0951 - val_accuracy: 0.9686\n",
      "Epoch 3/10\n",
      "231/231 [==============================] - 12s 52ms/step - loss: 0.0605 - accuracy: 0.9816 - val_loss: 0.0973 - val_accuracy: 0.9680\n",
      "Epoch 4/10\n",
      "231/231 [==============================] - 13s 56ms/step - loss: 0.0459 - accuracy: 0.9862 - val_loss: 0.1060 - val_accuracy: 0.9661\n",
      "Epoch 5/10\n",
      "231/231 [==============================] - 12s 53ms/step - loss: 0.0396 - accuracy: 0.9889 - val_loss: 0.1136 - val_accuracy: 0.9660\n",
      "Epoch 6/10\n",
      "231/231 [==============================] - 14s 59ms/step - loss: 0.0332 - accuracy: 0.9898 - val_loss: 0.1213 - val_accuracy: 0.9649\n",
      "Epoch 7/10\n",
      "231/231 [==============================] - 14s 60ms/step - loss: 0.0284 - accuracy: 0.9918 - val_loss: 0.1318 - val_accuracy: 0.9628\n",
      "Epoch 8/10\n",
      "231/231 [==============================] - 12s 53ms/step - loss: 0.0243 - accuracy: 0.9926 - val_loss: 0.1465 - val_accuracy: 0.9584\n",
      "Epoch 9/10\n",
      "231/231 [==============================] - 14s 62ms/step - loss: 0.0217 - accuracy: 0.9933 - val_loss: 0.1758 - val_accuracy: 0.9548\n",
      "Epoch 10/10\n",
      "231/231 [==============================] - 14s 63ms/step - loss: 0.0226 - accuracy: 0.9934 - val_loss: 0.1614 - val_accuracy: 0.9596\n"
     ]
    },
    {
     "data": {
      "text/plain": [
       "<keras.callbacks.History at 0x237715bf708>"
      ]
     },
     "execution_count": 32,
     "metadata": {},
     "output_type": "execute_result"
    }
   ],
   "source": [
    "### Finally Training\n",
    "model.fit(X_train,y_train,validation_data=(X_test,y_test),epochs=10,batch_size=64)"
   ]
  },
  {
   "cell_type": "code",
   "execution_count": 33,
   "id": "f09050af-6b7e-46fc-a503-8a131ef7a675",
   "metadata": {},
   "outputs": [],
   "source": [
    "#y_pred=model.predict_classes(X_test)\n",
    "y_pred = (model.predict(X_test) > 0.5)*1 "
   ]
  },
  {
   "cell_type": "code",
   "execution_count": 34,
   "id": "5b4fae16-c57b-4d67-8b9f-bd95fa984373",
   "metadata": {},
   "outputs": [
    {
     "data": {
      "text/plain": [
       "array([[3461,  203],\n",
       "       [  90, 3506]], dtype=int64)"
      ]
     },
     "execution_count": 34,
     "metadata": {},
     "output_type": "execute_result"
    }
   ],
   "source": [
    "confusion_matrix(y_test,y_pred)"
   ]
  },
  {
   "cell_type": "code",
   "execution_count": 35,
   "id": "ca118970-eceb-47dc-92ab-4b76ec723abf",
   "metadata": {},
   "outputs": [
    {
     "data": {
      "text/plain": [
       "0.9596418732782369"
      ]
     },
     "execution_count": 35,
     "metadata": {},
     "output_type": "execute_result"
    }
   ],
   "source": [
    "accuracy_score(y_test,y_pred)"
   ]
  },
  {
   "cell_type": "code",
   "execution_count": 36,
   "id": "e0848412-daaf-4b53-ae5a-c8ab654cf86c",
   "metadata": {},
   "outputs": [
    {
     "name": "stdout",
     "output_type": "stream",
     "text": [
      "              precision    recall  f1-score   support\n",
      "\n",
      "           0     0.9747    0.9446    0.9594      3664\n",
      "           1     0.9453    0.9750    0.9599      3596\n",
      "\n",
      "    accuracy                         0.9596      7260\n",
      "   macro avg     0.9600    0.9598    0.9596      7260\n",
      "weighted avg     0.9601    0.9596    0.9596      7260\n",
      "\n"
     ]
    }
   ],
   "source": [
    "print(classification_report(y_test,y_pred, digits=4))"
   ]
  },
  {
   "cell_type": "code",
   "execution_count": 37,
   "id": "a80c996f-5ec1-41ea-8557-36fd2eb4906a",
   "metadata": {},
   "outputs": [
    {
     "data": {
      "image/png": "[encoded data removed]",
      "text/plain": [
       "<Figure size 864x648 with 1 Axes>"
      ]
     },
     "metadata": {
      "needs_background": "light"
     },
     "output_type": "display_data"
    },
    {
     "data": {
      "image/png": "[encoded data removed]",
      "text/plain": [
       "<Figure size 864x648 with 1 Axes>"
      ]
     },
     "metadata": {
      "needs_background": "light"
     },
     "output_type": "display_data"
    }
   ],
   "source": [
    "history_dict = history.history\n",
    "\n",
    "acc = history_dict['accuracy']\n",
    "val_acc = history_dict['val_accuracy']\n",
    "loss = history_dict['loss']\n",
    "val_loss = history_dict['val_loss']\n",
    "epochs = history.epoch\n",
    "\n",
    "plt.figure(figsize=(12,9))\n",
    "plt.plot(epochs, loss, 'r', label='Training loss')\n",
    "plt.plot(epochs, val_loss, 'b', label='Validation loss')\n",
    "plt.title('Training and validation loss', size=20)\n",
    "plt.xlabel('Epochs', size=20)\n",
    "plt.ylabel('Loss', size=20)\n",
    "plt.legend(prop={'size': 20})\n",
    "plt.show()\n",
    "\n",
    "plt.figure(figsize=(12,9))\n",
    "plt.plot(epochs, acc, 'g', label='Training acc')\n",
    "plt.plot(epochs, val_acc, 'b', label='Validation acc')\n",
    "plt.title('Training and validation accuracy', size=20)\n",
    "plt.xlabel('Epochs', size=20)\n",
    "plt.ylabel('Accuracy', size=20)\n",
    "plt.legend(prop={'size': 20})\n",
    "plt.ylim((0.5,1))\n",
    "plt.show()"
   ]
  },
  {
   "cell_type": "code",
   "execution_count": null,
   "id": "6b05f79f-0731-4c6c-9a8b-55e1550091a1",
   "metadata": {},
   "outputs": [],
   "source": []
  }
 ],
 "metadata": {
  "kernelspec": {
   "display_name": "Python [conda env:blhl] *",
   "language": "python",
   "name": "conda-env-blhl-py"
  },
  "language_info": {
   "codemirror_mode": {
    "name": "ipython",
    "version": 3
   },
   "file_extension": ".py",
   "mimetype": "text/x-python",
   "name": "python",
   "nbconvert_exporter": "python",
   "pygments_lexer": "ipython3",
   "version": "3.7.11"
  }
 },
 "nbformat": 4,
 "nbformat_minor": 5
}
