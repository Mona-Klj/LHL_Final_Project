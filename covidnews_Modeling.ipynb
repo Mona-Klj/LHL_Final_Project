{
 "cells": [
  {
   "cell_type": "markdown",
   "id": "360c4880-49f3-44a3-a8c0-4f02ab4d78bc",
   "metadata": {
    "tags": []
   },
   "source": [
    "## Covid-19 Fake news Detection - Modelling"
   ]
  },
  {
   "cell_type": "markdown",
   "id": "0257b049-ad0d-4577-a446-c479aac3e4f6",
   "metadata": {
    "tags": []
   },
   "source": [
    "### Importing required library"
   ]
  },
  {
   "cell_type": "code",
   "execution_count": 111,
   "id": "62a59ec3-4275-4eaa-955c-a4ea6a24018b",
   "metadata": {},
   "outputs": [],
   "source": [
    "import pandas as pd\n",
    "from sklearn.feature_extraction.text import CountVectorizer, TfidfVectorizer, HashingVectorizer\n",
    "import matplotlib.pyplot as plt\n",
    "from nltk.corpus import stopwords\n",
    "from nltk.stem.porter import PorterStemmer\n",
    "import re\n",
    "from sklearn.feature_extraction.text import TfidfVectorizer\n",
    "from sklearn.model_selection import train_test_split\n",
    "from sklearn.naive_bayes import MultinomialNB\n",
    "from sklearn import metrics\n",
    "import numpy as np\n",
    "import itertools\n",
    "from sklearn.linear_model import PassiveAggressiveClassifier\n",
    "from sklearn.linear_model import LogisticRegression\n",
    "from sklearn.tree import DecisionTreeClassifier\n",
    "from sklearn.ensemble import GradientBoostingClassifier\n",
    "from sklearn.ensemble import RandomForestClassifier\n",
    "from sklearn.svm import SVC\n",
    "from sklearn.metrics import accuracy_score, f1_score, classification_report, precision_score"
   ]
  },
  {
   "cell_type": "markdown",
   "id": "91982495-9969-408c-b4ee-d3950816d2f1",
   "metadata": {},
   "source": [
    "### Loading dataset and giving name to columns"
   ]
  },
  {
   "cell_type": "code",
   "execution_count": 2,
   "id": "8efd37bc-afa4-45cc-b59d-af987aa3956b",
   "metadata": {},
   "outputs": [],
   "source": [
    "df=pd.read_csv('covidnews.txt', sep=\"\\t\", header=None)\n",
    "df.columns = [\"label\", \"text\"]"
   ]
  },
  {
   "cell_type": "code",
   "execution_count": 3,
   "id": "83cdeff9-4233-4ff4-a792-d05d002dbc66",
   "metadata": {},
   "outputs": [
    {
     "data": {
      "text/html": [
       "<div>\n",
       "<style scoped>\n",
       "    .dataframe tbody tr th:only-of-type {\n",
       "        vertical-align: middle;\n",
       "    }\n",
       "\n",
       "    .dataframe tbody tr th {\n",
       "        vertical-align: top;\n",
       "    }\n",
       "\n",
       "    .dataframe thead th {\n",
       "        text-align: right;\n",
       "    }\n",
       "</style>\n",
       "<table border=\"1\" class=\"dataframe\">\n",
       "  <thead>\n",
       "    <tr style=\"text-align: right;\">\n",
       "      <th></th>\n",
       "      <th>label</th>\n",
       "      <th>text</th>\n",
       "    </tr>\n",
       "  </thead>\n",
       "  <tbody>\n",
       "    <tr>\n",
       "      <th>0</th>\n",
       "      <td>0</td>\n",
       "      <td>live launch of the access to covid tools act...</td>\n",
       "    </tr>\n",
       "    <tr>\n",
       "      <th>1</th>\n",
       "      <td>0</td>\n",
       "      <td>live one world togetherathome covid</td>\n",
       "    </tr>\n",
       "    <tr>\n",
       "      <th>2</th>\n",
       "      <td>1</td>\n",
       "      <td>dettol kills the coronavirus so it is not new</td>\n",
       "    </tr>\n",
       "    <tr>\n",
       "      <th>3</th>\n",
       "      <td>1</td>\n",
       "      <td>one thing for sure drink enough bleach and t...</td>\n",
       "    </tr>\n",
       "    <tr>\n",
       "      <th>4</th>\n",
       "      <td>1</td>\n",
       "      <td>isn t that horrible china has a patent on th...</td>\n",
       "    </tr>\n",
       "  </tbody>\n",
       "</table>\n",
       "</div>"
      ],
      "text/plain": [
       "   label                                               text\n",
       "0      0    live launch of the access to covid tools act...\n",
       "1      0                live one world togetherathome covid\n",
       "2      1      dettol kills the coronavirus so it is not new\n",
       "3      1    one thing for sure drink enough bleach and t...\n",
       "4      1    isn t that horrible china has a patent on th..."
      ]
     },
     "execution_count": 3,
     "metadata": {},
     "output_type": "execute_result"
    }
   ],
   "source": [
    "df.head()"
   ]
  },
  {
   "cell_type": "code",
   "execution_count": 4,
   "id": "30731345-9c38-425a-8b4f-b227b7e002b2",
   "metadata": {},
   "outputs": [
    {
     "data": {
      "text/plain": [
       "label    0\n",
       "text     0\n",
       "dtype: int64"
      ]
     },
     "execution_count": 4,
     "metadata": {},
     "output_type": "execute_result"
    }
   ],
   "source": [
    "# counting the number of missing values in the dataset\n",
    "df.isnull().sum()"
   ]
  },
  {
   "cell_type": "markdown",
   "id": "5e4c914d-8b65-45b4-8ff2-aef5a68597f0",
   "metadata": {},
   "source": [
    "### Defining a function for Preprocessing the data using NLP "
   ]
  },
  {
   "cell_type": "code",
   "execution_count": 5,
   "id": "c2707622-f55b-4817-8fa3-e6e3a717e10d",
   "metadata": {},
   "outputs": [],
   "source": [
    "port_stem = PorterStemmer()\n",
    "def stemming(content):\n",
    "    stemmed_content = re.sub('[^a-zA-Z]',' ',content)\n",
    "    stemmed_content = stemmed_content.lower()\n",
    "    stemmed_content = stemmed_content.split()\n",
    "    stemmed_content = [port_stem.stem(word) for word in stemmed_content if not word in stopwords.words('english')]\n",
    "    stemmed_content = ' '.join(stemmed_content)\n",
    "    return stemmed_content"
   ]
  },
  {
   "cell_type": "code",
   "execution_count": 6,
   "id": "796fb7b1-1099-432b-96dc-adfbc2406665",
   "metadata": {},
   "outputs": [],
   "source": [
    "df['text'] = df['text'].apply(stemming)"
   ]
  },
  {
   "cell_type": "code",
   "execution_count": 7,
   "id": "0857250e-2546-4756-b588-573f25ea2775",
   "metadata": {},
   "outputs": [
    {
     "data": {
      "text/plain": [
       "'mcgarri report bill gate predict coronaviru like outbreak'"
      ]
     },
     "execution_count": 7,
     "metadata": {},
     "output_type": "execute_result"
    }
   ],
   "source": [
    "df['text'][50]"
   ]
  },
  {
   "cell_type": "code",
   "execution_count": 8,
   "id": "8eeb57d0-4067-4dff-94e5-1679e6535d0d",
   "metadata": {},
   "outputs": [
    {
     "data": {
      "text/plain": [
       "0                live launch access covid tool act acceler\n",
       "1                       live one world togetherathom covid\n",
       "2                               dettol kill coronaviru new\n",
       "3        one thing sure drink enough bleach coronaviru ...\n",
       "4        horribl china patent viru alreadi laboratori b...\n",
       "                               ...                        \n",
       "21995    get latest updat covid respons massachusett st...\n",
       "21996                 hold brief covid virginia watch live\n",
       "21997    mani countri put place restrict measur physic ...\n",
       "21998    expert hand sanitis made alcohol kill coronavi...\n",
       "21999    salli c pipe warren schakowski bill would push...\n",
       "Name: text, Length: 22000, dtype: object"
      ]
     },
     "execution_count": 8,
     "metadata": {},
     "output_type": "execute_result"
    }
   ],
   "source": [
    "df['text']"
   ]
  },
  {
   "cell_type": "code",
   "execution_count": 9,
   "id": "96c232ef-c322-4993-9576-fb469805e9c0",
   "metadata": {},
   "outputs": [
    {
     "name": "stdout",
     "output_type": "stream",
     "text": [
      "label\n",
      "0    11000\n",
      "1    11000\n",
      "Name: text, dtype: int64\n"
     ]
    },
    {
     "data": {
      "image/png": "[encoded data removed]",
      "text/plain": [
       "<Figure size 432x288 with 1 Axes>"
      ]
     },
     "metadata": {
      "needs_background": "light"
     },
     "output_type": "display_data"
    }
   ],
   "source": [
    "print(df.groupby(['label'])['text'].count())\n",
    "df.groupby(['label'])['text'].count().plot(kind=\"bar\")\n",
    "plt.show()"
   ]
  },
  {
   "cell_type": "markdown",
   "id": "1bf587fd-3827-4831-ad4a-a6665c6f343a",
   "metadata": {},
   "source": [
    "### Defining dependent and independent variable as X and Y"
   ]
  },
  {
   "cell_type": "code",
   "execution_count": 10,
   "id": "8a8f38df-ed2d-4612-9d20-19a67c96fc67",
   "metadata": {},
   "outputs": [],
   "source": [
    "#separating the data and label\n",
    "X = df['text'].values\n",
    "Y = df['label'].values"
   ]
  },
  {
   "cell_type": "code",
   "execution_count": 11,
   "id": "5de3b821-8d97-401c-b1df-dac9a654d2c7",
   "metadata": {},
   "outputs": [
    {
     "data": {
      "text/plain": [
       "(22000,)"
      ]
     },
     "execution_count": 11,
     "metadata": {},
     "output_type": "execute_result"
    }
   ],
   "source": [
    "X.shape"
   ]
  },
  {
   "cell_type": "markdown",
   "id": "e661479f-fe4e-455b-8819-d17e93663e5d",
   "metadata": {},
   "source": [
    "### Convert text to vectors by TfidfVectorizer"
   ]
  },
  {
   "cell_type": "code",
   "execution_count": 12,
   "id": "bca6c85d-c555-4563-8b53-130457b207a3",
   "metadata": {},
   "outputs": [],
   "source": [
    "# converting the textual data to numerical data\n",
    "vectorizer = TfidfVectorizer()\n",
    "vectorizer.fit(X)\n",
    "\n",
    "X = vectorizer.transform(X)"
   ]
  },
  {
   "cell_type": "code",
   "execution_count": 13,
   "id": "23f4e57d-2a4e-4759-8505-50ce3baf8646",
   "metadata": {},
   "outputs": [
    {
     "data": {
      "text/plain": [
       "(22000, 15970)"
      ]
     },
     "execution_count": 13,
     "metadata": {},
     "output_type": "execute_result"
    }
   ],
   "source": [
    "X.shape"
   ]
  },
  {
   "cell_type": "markdown",
   "id": "826899ad-787e-47be-a238-f6acdabbfb92",
   "metadata": {},
   "source": [
    "### Splitting the dataset into training set and testing set. "
   ]
  },
  {
   "cell_type": "code",
   "execution_count": 14,
   "id": "345d5697-3304-4c9d-850b-cb1e723a3db9",
   "metadata": {},
   "outputs": [],
   "source": [
    "## Divide the dataset into Train and Test\n",
    "X_train, X_test, Y_train, Y_test = train_test_split(X, Y, test_size = 0.2, stratify=Y, random_state=2)"
   ]
  },
  {
   "cell_type": "markdown",
   "id": "02c7b0a2-d6fa-4efd-aff1-357c9a36d130",
   "metadata": {},
   "source": [
    "### Defining a function to plot the confusion matrix"
   ]
  },
  {
   "cell_type": "code",
   "execution_count": 15,
   "id": "fddb72f1-5f70-4605-a3e5-5232ef099e29",
   "metadata": {},
   "outputs": [],
   "source": [
    "def plot_confusion_matrix(cm, classes,\n",
    "                          normalize=False,\n",
    "                          title='Confusion matrix',\n",
    "                          cmap=plt.cm.Blues):\n",
    "    \"\"\"\n",
    "    See full source and example: \n",
    "    http://scikit-learn.org/stable/auto_examples/model_selection/plot_confusion_matrix.html\n",
    "    \n",
    "    This function prints and plots the confusion matrix.\n",
    "    Normalization can be applied by setting `normalize=True`.\n",
    "    \"\"\"\n",
    "    plt.imshow(cm, interpolation='nearest', cmap=cmap)\n",
    "    plt.title(title)\n",
    "    plt.colorbar()\n",
    "    tick_marks = np.arange(len(classes))\n",
    "    plt.xticks(tick_marks, classes, rotation=45)\n",
    "    plt.yticks(tick_marks, classes)\n",
    "\n",
    "    if normalize:\n",
    "        cm = cm.astype('float') / cm.sum(axis=1)[:, np.newaxis]\n",
    "        print(\"Normalized confusion matrix\")\n",
    "    else:\n",
    "        print('Confusion matrix, without normalization')\n",
    "\n",
    "    thresh = cm.max() / 2.\n",
    "    for i, j in itertools.product(range(cm.shape[0]), range(cm.shape[1])):\n",
    "        plt.text(j, i, cm[i, j],\n",
    "                 horizontalalignment=\"center\",\n",
    "                 color=\"white\" if cm[i, j] > thresh else \"black\")\n",
    "\n",
    "    plt.tight_layout()\n",
    "    plt.ylabel('True label')\n",
    "    plt.xlabel('Predicted label')"
   ]
  },
  {
   "cell_type": "markdown",
   "id": "89d2dfac-8b7f-4f3e-ac57-153bedd90f15",
   "metadata": {},
   "source": [
    "### Start Modelling"
   ]
  },
  {
   "cell_type": "markdown",
   "id": "7c758812-e3e7-4966-a74e-b8627c5bfc8e",
   "metadata": {},
   "source": [
    "### 1-Logistic Regression"
   ]
  },
  {
   "cell_type": "code",
   "execution_count": 16,
   "id": "7c9bf52f-288b-4277-9f21-4be853ec2b14",
   "metadata": {},
   "outputs": [
    {
     "data": {
      "text/plain": [
       "LogisticRegression()"
      ]
     },
     "execution_count": 16,
     "metadata": {},
     "output_type": "execute_result"
    }
   ],
   "source": [
    "lr_model = LogisticRegression()\n",
    "lr_model.fit(X_train, Y_train)"
   ]
  },
  {
   "cell_type": "code",
   "execution_count": 17,
   "id": "647597e9-15ea-4fc3-8dba-f7561c44d3ab",
   "metadata": {},
   "outputs": [
    {
     "name": "stdout",
     "output_type": "stream",
     "text": [
      "Accuracy score of the training data :  0.9808522727272727\n"
     ]
    }
   ],
   "source": [
    "# accuracy score on the training data\n",
    "X_train_prediction = lr_model.predict(X_train)\n",
    "training_data_accuracy = accuracy_score(X_train_prediction, Y_train)\n",
    "print('Accuracy score of the training data : ', training_data_accuracy)"
   ]
  },
  {
   "cell_type": "code",
   "execution_count": 18,
   "id": "ad31e033-3e36-467f-ae01-c59a8f12aaec",
   "metadata": {},
   "outputs": [
    {
     "name": "stdout",
     "output_type": "stream",
     "text": [
      "Accuracy score of the test data :  0.9713636363636363\n"
     ]
    }
   ],
   "source": [
    "# accuracy score on the test data\n",
    "X_test_prediction = lr_model.predict(X_test)\n",
    "test_data_accuracy = accuracy_score(X_test_prediction, Y_test)\n",
    "print('Accuracy score of the test data : ', test_data_accuracy)"
   ]
  },
  {
   "cell_type": "code",
   "execution_count": 51,
   "id": "f2b1b6c6-8422-42e8-8f00-9cd5b66f0383",
   "metadata": {},
   "outputs": [
    {
     "name": "stdout",
     "output_type": "stream",
     "text": [
      "accuracy:   0.971364\n",
      "f1_score:   0.971364\n",
      "Confusion matrix, without normalization\n"
     ]
    },
    {
     "data": {
      "image/png": "[encoded data removed]",
      "text/plain": [
       "<Figure size 432x288 with 2 Axes>"
      ]
     },
     "metadata": {
      "needs_background": "light"
     },
     "output_type": "display_data"
    }
   ],
   "source": [
    "lr_model.fit(X_train, Y_train)\n",
    "pred = lr_model.predict(X_test)\n",
    "score = metrics.accuracy_score(Y_test, pred)\n",
    "print(\"accuracy:   %f\" % score)\n",
    "f1 = f1_score(Y_test, pred, average='micro')\n",
    "print(\"f1_score:   %f\" % f1)\n",
    "cm = metrics.confusion_matrix(Y_test, pred)\n",
    "plot_confusion_matrix(cm, classes=['FAKE', 'REAL'])"
   ]
  },
  {
   "cell_type": "code",
   "execution_count": 103,
   "id": "144dd163-7a01-4c26-8ca1-c0548bad93af",
   "metadata": {},
   "outputs": [
    {
     "name": "stdout",
     "output_type": "stream",
     "text": [
      "              precision    recall  f1-score   support\n",
      "\n",
      "           0     0.9757    0.9668    0.9712      2200\n",
      "           1     0.9671    0.9759    0.9715      2200\n",
      "\n",
      "    accuracy                         0.9714      4400\n",
      "   macro avg     0.9714    0.9714    0.9714      4400\n",
      "weighted avg     0.9714    0.9714    0.9714      4400\n",
      "\n"
     ]
    }
   ],
   "source": [
    "print(classification_report(Y_test, pred, digits=4))"
   ]
  },
  {
   "cell_type": "markdown",
   "id": "7d46c4bb-80ea-4583-999f-434e1450134e",
   "metadata": {
    "tags": []
   },
   "source": [
    "### 2-MultinomialNB"
   ]
  },
  {
   "cell_type": "code",
   "execution_count": 21,
   "id": "206b7168-347d-4265-85a4-4cd2d0cf403a",
   "metadata": {},
   "outputs": [],
   "source": [
    "mnb_clf=MultinomialNB()"
   ]
  },
  {
   "cell_type": "code",
   "execution_count": 53,
   "id": "9ece83ae-2b66-42ca-93de-362a2a8225f4",
   "metadata": {},
   "outputs": [
    {
     "name": "stdout",
     "output_type": "stream",
     "text": [
      "accuracy:   0.933\n",
      "Confusion matrix, without normalization\n"
     ]
    },
    {
     "data": {
      "image/png": "[encoded data removed]",
      "text/plain": [
       "<Figure size 432x288 with 2 Axes>"
      ]
     },
     "metadata": {
      "needs_background": "light"
     },
     "output_type": "display_data"
    }
   ],
   "source": [
    "mnb_clf.fit(X_train, Y_train)\n",
    "mnb_pred = mnb_clf.predict(X_test)\n",
    "score = metrics.accuracy_score(Y_test, mnb_pred)\n",
    "print(\"accuracy:   %0.3f\" % score)\n",
    "cm = metrics.confusion_matrix(Y_test, mnb_pred)\n",
    "plot_confusion_matrix(cm, classes=['FAKE', 'REAL'])"
   ]
  },
  {
   "cell_type": "code",
   "execution_count": null,
   "id": "860b1f09-d769-4329-8a83-f6b02c75501f",
   "metadata": {},
   "outputs": [],
   "source": []
  },
  {
   "cell_type": "code",
   "execution_count": 23,
   "id": "551fcd17-e35c-498b-a9d9-2d70a70d4405",
   "metadata": {},
   "outputs": [
    {
     "data": {
      "text/plain": [
       "0.9334090909090909"
      ]
     },
     "execution_count": 23,
     "metadata": {},
     "output_type": "execute_result"
    }
   ],
   "source": [
    "mnb_clf.fit(X_train, Y_train)\n",
    "mnb_pred = mnb_clf.predict(X_test)\n",
    "score = metrics.accuracy_score(Y_test, mnb_pred)\n",
    "score"
   ]
  },
  {
   "cell_type": "code",
   "execution_count": 24,
   "id": "4403c171-790b-49d3-974d-f1ed1cf8fbc8",
   "metadata": {},
   "outputs": [
    {
     "name": "stdout",
     "output_type": "stream",
     "text": [
      "Accuracy score of the training data :  0.954659090909091\n"
     ]
    }
   ],
   "source": [
    "# accuracy score on the training data\n",
    "X_train_prediction = mnb_clf.predict(X_train)\n",
    "training_data_accuracy = accuracy_score(X_train_prediction, Y_train)\n",
    "print('Accuracy score of the training data : ', training_data_accuracy)"
   ]
  },
  {
   "cell_type": "code",
   "execution_count": 104,
   "id": "c187095b-ba5b-452d-82d4-403100dd7520",
   "metadata": {},
   "outputs": [
    {
     "name": "stdout",
     "output_type": "stream",
     "text": [
      "              precision    recall  f1-score   support\n",
      "\n",
      "           0     0.9356    0.9309    0.9332      2200\n",
      "           1     0.9313    0.9359    0.9336      2200\n",
      "\n",
      "    accuracy                         0.9334      4400\n",
      "   macro avg     0.9334    0.9334    0.9334      4400\n",
      "weighted avg     0.9334    0.9334    0.9334      4400\n",
      "\n"
     ]
    }
   ],
   "source": [
    "print(classification_report(Y_test, mnb_pred, digits=4))"
   ]
  },
  {
   "cell_type": "code",
   "execution_count": 25,
   "id": "f0d2972f-d3e7-4078-b81a-0a754838658f",
   "metadata": {},
   "outputs": [
    {
     "data": {
      "text/plain": [
       "(17600,)"
      ]
     },
     "execution_count": 25,
     "metadata": {},
     "output_type": "execute_result"
    }
   ],
   "source": [
    "Y_train.shape"
   ]
  },
  {
   "cell_type": "code",
   "execution_count": 32,
   "id": "0d9ca733-56dc-464f-ae8b-7e5c4911253d",
   "metadata": {},
   "outputs": [],
   "source": [
    "classifier=MultinomialNB(alpha=0.1)"
   ]
  },
  {
   "cell_type": "code",
   "execution_count": 33,
   "id": "7bcda6c2-f2a6-443f-8507-9256bdbfd5e9",
   "metadata": {},
   "outputs": [
    {
     "name": "stdout",
     "output_type": "stream",
     "text": [
      "Alpha: 0.0, Score : 0.9022727272727272\n",
      "Alpha: 0.1, Score : 0.9275\n",
      "Alpha: 0.2, Score : 0.93\n",
      "Alpha: 0.30000000000000004, Score : 0.9302272727272727\n",
      "Alpha: 0.4, Score : 0.9302272727272727\n",
      "Alpha: 0.5, Score : 0.9315909090909091\n",
      "Alpha: 0.6000000000000001, Score : 0.9315909090909091\n",
      "Alpha: 0.7000000000000001, Score : 0.9318181818181818\n",
      "Alpha: 0.8, Score : 0.9327272727272727\n",
      "Alpha: 0.9, Score : 0.9331818181818182\n"
     ]
    },
    {
     "name": "stderr",
     "output_type": "stream",
     "text": [
      "C:\\Users\\monak\\anaconda3\\envs\\blhl\\lib\\site-packages\\sklearn\\naive_bayes.py:557: UserWarning: alpha too small will result in numeric errors, setting alpha = 1.0e-10\n",
      "  % _ALPHA_MIN\n"
     ]
    }
   ],
   "source": [
    "previous_score=0\n",
    "for alpha in np.arange(0,1,0.1):\n",
    "    sub_classifier=MultinomialNB(alpha=alpha)\n",
    "    sub_classifier.fit(X_train,Y_train)\n",
    "    Y_pred=sub_classifier.predict(X_test)\n",
    "    score = metrics.accuracy_score(Y_test, Y_pred)\n",
    "    if score>previous_score:\n",
    "        classifier=sub_classifier\n",
    "    print(\"Alpha: {}, Score : {}\".format(alpha,score))"
   ]
  },
  {
   "cell_type": "markdown",
   "id": "7ba8ebef-01f7-4e14-a1a0-218a4a087cc4",
   "metadata": {},
   "source": [
    "### 3-PassiveAggressiveClassifier"
   ]
  },
  {
   "cell_type": "code",
   "execution_count": 98,
   "id": "cf6aa3d6-55c6-48da-9581-3331619f77ce",
   "metadata": {},
   "outputs": [],
   "source": [
    "#pa_clf = PassiveAggressiveClassifier()\n",
    "pa_clf = PassiveAggressiveClassifier(C = 0.1, max_iter=10000, random_state=0, tol=1e-3)"
   ]
  },
  {
   "cell_type": "code",
   "execution_count": 99,
   "id": "f81e4d01-1e80-4e7d-9614-44f391100fd6",
   "metadata": {
    "tags": []
   },
   "outputs": [
    {
     "name": "stdout",
     "output_type": "stream",
     "text": [
      "accuracy:   0.976\n",
      "Confusion matrix, without normalization\n"
     ]
    },
    {
     "data": {
      "image/png": "[encoded data removed]",
      "text/plain": [
       "<Figure size 432x288 with 2 Axes>"
      ]
     },
     "metadata": {
      "needs_background": "light"
     },
     "output_type": "display_data"
    }
   ],
   "source": [
    "pa_clf.fit(X_train, Y_train)\n",
    "pa_pred = pa_clf.predict(X_test)\n",
    "score = metrics.accuracy_score(Y_test, pa_pred)\n",
    "print(\"accuracy:   %0.3f\" % score)\n",
    "cm = metrics.confusion_matrix(Y_test, pa_pred)\n",
    "plot_confusion_matrix(cm, classes=['FAKE Data', 'REAL Data'])"
   ]
  },
  {
   "cell_type": "code",
   "execution_count": 100,
   "id": "01d00b0d-c2ad-4858-a233-4e6de0019cb5",
   "metadata": {},
   "outputs": [
    {
     "name": "stdout",
     "output_type": "stream",
     "text": [
      "Accuracy score of the training data :  0.9956818181818182\n"
     ]
    }
   ],
   "source": [
    "# accuracy score on the training data\n",
    "X_train_prediction = pa_clf.predict(X_train)\n",
    "training_data_accuracy = accuracy_score(X_train_prediction, Y_train)\n",
    "print('Accuracy score of the training data : ', training_data_accuracy)"
   ]
  },
  {
   "cell_type": "code",
   "execution_count": 105,
   "id": "84cb3e54-3abe-4d44-849c-b18b4b0c5950",
   "metadata": {},
   "outputs": [
    {
     "name": "stdout",
     "output_type": "stream",
     "text": [
      "              precision    recall  f1-score   support\n",
      "\n",
      "           0     0.9776    0.9736    0.9756      2200\n",
      "           1     0.9737    0.9777    0.9757      2200\n",
      "\n",
      "    accuracy                         0.9757      4400\n",
      "   macro avg     0.9757    0.9757    0.9757      4400\n",
      "weighted avg     0.9757    0.9757    0.9757      4400\n",
      "\n"
     ]
    }
   ],
   "source": [
    "print(classification_report(Y_test, pa_pred, digits=4))"
   ]
  },
  {
   "cell_type": "markdown",
   "id": "116a0b6b-85ac-431c-b992-1c618de72320",
   "metadata": {},
   "source": [
    "### 4-DecisionTreeClassifier"
   ]
  },
  {
   "cell_type": "code",
   "execution_count": 29,
   "id": "8da4c073-cc16-4e0e-9669-4324b4832055",
   "metadata": {},
   "outputs": [],
   "source": [
    "dt_clf = DecisionTreeClassifier()"
   ]
  },
  {
   "cell_type": "code",
   "execution_count": 30,
   "id": "d36e7bab-b2e0-4272-a2f7-e836fb1188a8",
   "metadata": {},
   "outputs": [
    {
     "name": "stdout",
     "output_type": "stream",
     "text": [
      "accuracy:   0.974\n",
      "Confusion matrix, without normalization\n"
     ]
    },
    {
     "data": {
      "image/png": "[encoded data removed]",
      "text/plain": [
       "<Figure size 432x288 with 2 Axes>"
      ]
     },
     "metadata": {
      "needs_background": "light"
     },
     "output_type": "display_data"
    }
   ],
   "source": [
    "dt_clf.fit(X_train, Y_train)\n",
    "dt_pred = dt_clf.predict(X_test)\n",
    "score = metrics.accuracy_score(Y_test, dt_pred)\n",
    "print(\"accuracy:   %0.3f\" % score)\n",
    "cm = metrics.confusion_matrix(Y_test, dt_pred)\n",
    "plot_confusion_matrix(cm, classes=['FAKE Data', 'REAL Data'])"
   ]
  },
  {
   "cell_type": "code",
   "execution_count": 31,
   "id": "a4a9629b-f941-45b5-8b38-70decd97cf21",
   "metadata": {},
   "outputs": [
    {
     "name": "stdout",
     "output_type": "stream",
     "text": [
      "Accuracy score of the training data :  0.9999431818181819\n"
     ]
    }
   ],
   "source": [
    "# accuracy score on the training data\n",
    "X_train_prediction = dt_clf.predict(X_train)\n",
    "training_data_accuracy = accuracy_score(X_train_prediction, Y_train)\n",
    "print('Accuracy score of the training data : ', training_data_accuracy)"
   ]
  },
  {
   "cell_type": "code",
   "execution_count": 106,
   "id": "b07a712b-7bc2-415f-968d-e1bcf496fabc",
   "metadata": {},
   "outputs": [
    {
     "name": "stdout",
     "output_type": "stream",
     "text": [
      "              precision    recall  f1-score   support\n",
      "\n",
      "           0     0.9758    0.9723    0.9740      2200\n",
      "           1     0.9724    0.9759    0.9741      2200\n",
      "\n",
      "    accuracy                         0.9741      4400\n",
      "   macro avg     0.9741    0.9741    0.9741      4400\n",
      "weighted avg     0.9741    0.9741    0.9741      4400\n",
      "\n"
     ]
    }
   ],
   "source": [
    "print(classification_report(Y_test, dt_pred, digits=4))"
   ]
  },
  {
   "cell_type": "markdown",
   "id": "77b6177e-beee-451a-904f-a327c5039a3f",
   "metadata": {},
   "source": [
    "### 5-GradientBoostingClassifier"
   ]
  },
  {
   "cell_type": "code",
   "execution_count": 33,
   "id": "7e4253d8-607e-45a9-8a49-4586b3c43a38",
   "metadata": {},
   "outputs": [],
   "source": [
    "gb_clf = GradientBoostingClassifier(random_state=0)"
   ]
  },
  {
   "cell_type": "code",
   "execution_count": 112,
   "id": "392f3065-1488-47e8-8ca2-6997c9381b4e",
   "metadata": {
    "tags": []
   },
   "outputs": [
    {
     "name": "stdout",
     "output_type": "stream",
     "text": [
      "accuracy:   0.971\n",
      "Confusion matrix, without normalization\n",
      "Precision: 0.967\n"
     ]
    },
    {
     "data": {
      "image/png": "[encoded data removed]",
      "text/plain": [
       "<Figure size 432x288 with 2 Axes>"
      ]
     },
     "metadata": {
      "needs_background": "light"
     },
     "output_type": "display_data"
    }
   ],
   "source": [
    "gb_clf.fit(X_train, Y_train)\n",
    "gb_pred = gb_clf.predict(X_test)\n",
    "score = metrics.accuracy_score(Y_test, gb_pred)\n",
    "print(\"accuracy:   %0.3f\" % score)\n",
    "cm = metrics.confusion_matrix(Y_test, gb_pred)\n",
    "plot_confusion_matrix(cm, classes=['FAKE Data', 'REAL Data'])\n",
    "# calculate prediction\n",
    "precision = precision_score(Y_test, gb_pred, average='binary')\n",
    "print('Precision: %.3f' % precision)"
   ]
  },
  {
   "cell_type": "code",
   "execution_count": 35,
   "id": "0f264684-b285-4dd8-a3c5-b38470537d3c",
   "metadata": {},
   "outputs": [
    {
     "name": "stdout",
     "output_type": "stream",
     "text": [
      "Accuracy score of the training data :  0.9726704545454545\n"
     ]
    }
   ],
   "source": [
    "# accuracy score on the training data\n",
    "X_train_prediction = gb_clf.predict(X_train)\n",
    "training_data_accuracy = accuracy_score(X_train_prediction, Y_train)\n",
    "print('Accuracy score of the training data : ', training_data_accuracy)"
   ]
  },
  {
   "cell_type": "code",
   "execution_count": 107,
   "id": "2751a974-df5e-42af-b2ae-9ec1262cfe04",
   "metadata": {},
   "outputs": [
    {
     "name": "stdout",
     "output_type": "stream",
     "text": [
      "              precision    recall  f1-score   support\n",
      "\n",
      "           0     0.9752    0.9668    0.9710      2200\n",
      "           1     0.9671    0.9755    0.9713      2200\n",
      "\n",
      "    accuracy                         0.9711      4400\n",
      "   macro avg     0.9712    0.9711    0.9711      4400\n",
      "weighted avg     0.9712    0.9711    0.9711      4400\n",
      "\n"
     ]
    }
   ],
   "source": [
    "print(classification_report(Y_test, gb_pred, digits=4))"
   ]
  },
  {
   "cell_type": "markdown",
   "id": "68be9600-d1d3-4257-9173-857ee7fa3174",
   "metadata": {
    "tags": []
   },
   "source": [
    "### 6-RandomForestClassifier"
   ]
  },
  {
   "cell_type": "code",
   "execution_count": 36,
   "id": "c85a0316-229e-46de-a404-fe7447405fb2",
   "metadata": {},
   "outputs": [],
   "source": [
    "rf_clf = RandomForestClassifier(random_state=0)"
   ]
  },
  {
   "cell_type": "code",
   "execution_count": 37,
   "id": "33c5de90-c197-445a-932b-292691284805",
   "metadata": {},
   "outputs": [
    {
     "name": "stdout",
     "output_type": "stream",
     "text": [
      "accuracy:   0.974\n",
      "Confusion matrix, without normalization\n"
     ]
    },
    {
     "data": {
      "image/png": "[encoded data removed]",
      "text/plain": [
       "<Figure size 432x288 with 2 Axes>"
      ]
     },
     "metadata": {
      "needs_background": "light"
     },
     "output_type": "display_data"
    }
   ],
   "source": [
    "rf_clf.fit(X_train, Y_train)\n",
    "rf_pred = rf_clf.predict(X_test)\n",
    "score = metrics.accuracy_score(Y_test, rf_pred)\n",
    "print(\"accuracy:   %0.3f\" % score)\n",
    "cm = metrics.confusion_matrix(Y_test, rf_pred)\n",
    "plot_confusion_matrix(cm, classes=['FAKE Data', 'REAL Data'])"
   ]
  },
  {
   "cell_type": "code",
   "execution_count": 38,
   "id": "ba5cf822-291a-4233-b25b-72fa0746aa36",
   "metadata": {},
   "outputs": [
    {
     "name": "stdout",
     "output_type": "stream",
     "text": [
      "Accuracy score of the training data :  0.9999431818181819\n"
     ]
    }
   ],
   "source": [
    "# accuracy score on the training data\n",
    "X_train_prediction = rf_clf.predict(X_train)\n",
    "training_data_accuracy = accuracy_score(X_train_prediction, Y_train)\n",
    "print('Accuracy score of the training data : ', training_data_accuracy)"
   ]
  },
  {
   "cell_type": "code",
   "execution_count": 108,
   "id": "75756153-4d31-4953-8ede-99c8d43ddd7f",
   "metadata": {},
   "outputs": [
    {
     "name": "stdout",
     "output_type": "stream",
     "text": [
      "              precision    recall  f1-score   support\n",
      "\n",
      "           0     0.9838    0.9645    0.9741      2200\n",
      "           1     0.9652    0.9841    0.9746      2200\n",
      "\n",
      "    accuracy                         0.9743      4400\n",
      "   macro avg     0.9745    0.9743    0.9743      4400\n",
      "weighted avg     0.9745    0.9743    0.9743      4400\n",
      "\n"
     ]
    }
   ],
   "source": [
    "print(classification_report(Y_test, rf_pred, digits=4))"
   ]
  },
  {
   "cell_type": "markdown",
   "id": "56373b1d-8462-4210-93eb-d79a37ecc145",
   "metadata": {},
   "source": [
    "### 7-Support Vector Machine(SVM)"
   ]
  },
  {
   "cell_type": "code",
   "execution_count": 41,
   "id": "cbc10a05-e1f4-49fb-9460-abb29f6f20ed",
   "metadata": {},
   "outputs": [],
   "source": [
    "svm_model = SVC(kernel='linear')"
   ]
  },
  {
   "cell_type": "code",
   "execution_count": 42,
   "id": "16aff4e4-3aee-4bda-93d2-976293292895",
   "metadata": {},
   "outputs": [
    {
     "name": "stdout",
     "output_type": "stream",
     "text": [
      "accuracy:   0.977\n",
      "Confusion matrix, without normalization\n"
     ]
    },
    {
     "data": {
      "image/png": "[encoded data removed]",
      "text/plain": [
       "<Figure size 432x288 with 2 Axes>"
      ]
     },
     "metadata": {
      "needs_background": "light"
     },
     "output_type": "display_data"
    }
   ],
   "source": [
    "svm_model.fit(X_train, Y_train)\n",
    "svm_pred = svm_model.predict(X_test)\n",
    "score = metrics.accuracy_score(Y_test, svm_pred)\n",
    "print(\"accuracy:   %0.3f\" % score)\n",
    "cm = metrics.confusion_matrix(Y_test, svm_pred)\n",
    "plot_confusion_matrix(cm, classes=['FAKE Data', 'REAL Data'])"
   ]
  },
  {
   "cell_type": "code",
   "execution_count": 43,
   "id": "6adcb437-9b2c-4131-b9f2-44ac334bb2ae",
   "metadata": {
    "tags": []
   },
   "outputs": [
    {
     "name": "stdout",
     "output_type": "stream",
     "text": [
      "Accuracy score of the training data :  0.9905113636363636\n"
     ]
    }
   ],
   "source": [
    "# accuracy score on the training data\n",
    "X_train_prediction = svm_model.predict(X_train)\n",
    "training_data_accuracy = accuracy_score(X_train_prediction, Y_train)\n",
    "print('Accuracy score of the training data : ', training_data_accuracy)"
   ]
  },
  {
   "cell_type": "code",
   "execution_count": 109,
   "id": "3f3245fd-7ce2-43ef-ba9c-597976b81623",
   "metadata": {
    "tags": []
   },
   "outputs": [
    {
     "name": "stdout",
     "output_type": "stream",
     "text": [
      "              precision    recall  f1-score   support\n",
      "\n",
      "           0     0.9825    0.9714    0.9769      2200\n",
      "           1     0.9717    0.9827    0.9772      2200\n",
      "\n",
      "    accuracy                         0.9770      4400\n",
      "   macro avg     0.9771    0.9770    0.9770      4400\n",
      "weighted avg     0.9771    0.9770    0.9770      4400\n",
      "\n"
     ]
    }
   ],
   "source": [
    "print(classification_report(Y_test, svm_pred, digits=4))"
   ]
  },
  {
   "cell_type": "markdown",
   "id": "3847fc50-2b5b-4193-a600-1a594367606e",
   "metadata": {},
   "source": [
    "### Explore Feature names and TfidfVectorizer Params"
   ]
  },
  {
   "cell_type": "code",
   "execution_count": 34,
   "id": "0816ccf2-0225-4b43-a8d7-c2a141de7166",
   "metadata": {},
   "outputs": [
    {
     "name": "stderr",
     "output_type": "stream",
     "text": [
      "C:\\Users\\monak\\anaconda3\\envs\\blhl\\lib\\site-packages\\sklearn\\utils\\deprecation.py:87: FutureWarning: Function get_feature_names is deprecated; get_feature_names is deprecated in 1.0 and will be removed in 1.2. Please use get_feature_names_out instead.\n",
      "  warnings.warn(msg, category=FutureWarning)\n"
     ]
    },
    {
     "data": {
      "text/plain": [
       "['aaa',\n",
       " 'aaaaaaaall',\n",
       " 'aaaaaannnnnddddd',\n",
       " 'aaaugghhhh',\n",
       " 'aadii',\n",
       " 'aah',\n",
       " 'aahh',\n",
       " 'aai',\n",
       " 'aaj',\n",
       " 'aakriti',\n",
       " 'aalu',\n",
       " 'aamer',\n",
       " 'aamirkhan',\n",
       " 'aap',\n",
       " 'aapl',\n",
       " 'aar',\n",
       " 'aarogya',\n",
       " 'aarogyasetapp',\n",
       " 'aarogyasetu',\n",
       " 'aaron']"
      ]
     },
     "execution_count": 34,
     "metadata": {},
     "output_type": "execute_result"
    }
   ],
   "source": [
    "vectorizer.get_feature_names()[:20]"
   ]
  },
  {
   "cell_type": "code",
   "execution_count": 35,
   "id": "3852234b-fd0c-4e3c-8080-970d80f7b867",
   "metadata": {},
   "outputs": [
    {
     "data": {
      "text/plain": [
       "{'analyzer': 'word',\n",
       " 'binary': False,\n",
       " 'decode_error': 'strict',\n",
       " 'dtype': numpy.float64,\n",
       " 'encoding': 'utf-8',\n",
       " 'input': 'content',\n",
       " 'lowercase': True,\n",
       " 'max_df': 1.0,\n",
       " 'max_features': None,\n",
       " 'min_df': 1,\n",
       " 'ngram_range': (1, 1),\n",
       " 'norm': 'l2',\n",
       " 'preprocessor': None,\n",
       " 'smooth_idf': True,\n",
       " 'stop_words': None,\n",
       " 'strip_accents': None,\n",
       " 'sublinear_tf': False,\n",
       " 'token_pattern': '(?u)\\\\b\\\\w\\\\w+\\\\b',\n",
       " 'tokenizer': None,\n",
       " 'use_idf': True,\n",
       " 'vocabulary': None}"
      ]
     },
     "execution_count": 35,
     "metadata": {},
     "output_type": "execute_result"
    }
   ],
   "source": [
    "vectorizer.get_params()"
   ]
  },
  {
   "cell_type": "code",
   "execution_count": 36,
   "id": "348628ee-491c-463a-8a3b-424dc1537026",
   "metadata": {},
   "outputs": [],
   "source": [
    "## Get Features names\n",
    "feature_names = vectorizer.get_feature_names()"
   ]
  },
  {
   "cell_type": "code",
   "execution_count": 38,
   "id": "c3789956-748a-480e-96d3-8c1f5d8a9631",
   "metadata": {},
   "outputs": [
    {
     "data": {
      "text/plain": [
       "array([-10.15128759, -10.75196445, -10.37875815, ..., -10.32490541,\n",
       "       -10.46274124, -10.75196445])"
      ]
     },
     "execution_count": 38,
     "metadata": {},
     "output_type": "execute_result"
    }
   ],
   "source": [
    "classifier.coef_[0]"
   ]
  },
  {
   "cell_type": "code",
   "execution_count": 39,
   "id": "7e13abcc-d6a5-4230-9529-2ebf1098fd5f",
   "metadata": {},
   "outputs": [
    {
     "data": {
      "text/plain": [
       "[(-4.36502833622872, 'coronaviru'),\n",
       " (-4.369554522688392, 'vaccin'),\n",
       " (-4.877261129039788, 'cure'),\n",
       " (-5.057421744221549, 'viru'),\n",
       " (-5.130912479973878, 'corona'),\n",
       " (-5.181031900804308, 'kill'),\n",
       " (-5.354819430848451, 'immun'),\n",
       " (-5.406216742919299, 'china'),\n",
       " (-5.488915682730884, 'gate'),\n",
       " (-5.640214795416515, 'bill'),\n",
       " (-5.642838136742552, 'bioweapon'),\n",
       " (-5.7503293122575, 'develop'),\n",
       " (-5.771699491467199, 'flu'),\n",
       " (-5.855726079749092, 'covid'),\n",
       " (-5.936935710639777, 'say'),\n",
       " (-5.988058296452884, 'like'),\n",
       " (-6.045510100683569, 'peopl'),\n",
       " (-6.06068498779904, 'us'),\n",
       " (-6.070768604744687, 'amp'),\n",
       " (-6.072395473200517, 'spread')]"
      ]
     },
     "execution_count": 39,
     "metadata": {},
     "output_type": "execute_result"
    }
   ],
   "source": [
    "### Most real\n",
    "sorted(zip(classifier.coef_[0], feature_names), reverse=True)[:20]"
   ]
  },
  {
   "cell_type": "code",
   "execution_count": 42,
   "id": "8d9f7fdb-cf30-4da2-b896-9dbe2d73aaa2",
   "metadata": {},
   "outputs": [
    {
     "data": {
      "text/plain": [
       "[(-10.751964445301098, 'aaaaaaaall'),\n",
       " (-10.751964445301098, 'aaj'),\n",
       " (-10.751964445301098, 'aakriti'),\n",
       " (-10.751964445301098, 'aamer'),\n",
       " (-10.751964445301098, 'aamirkhan'),\n",
       " (-10.751964445301098, 'aarogya'),\n",
       " (-10.751964445301098, 'aarogyasetapp'),\n",
       " (-10.751964445301098, 'aarogyasetu'),\n",
       " (-10.751964445301098, 'aaron'),\n",
       " (-10.751964445301098, 'aaronovitch'),\n",
       " (-10.751964445301098, 'aarp'),\n",
       " (-10.751964445301098, 'ababa'),\n",
       " (-10.751964445301098, 'abat'),\n",
       " (-10.751964445301098, 'abattoir'),\n",
       " (-10.751964445301098, 'abbott'),\n",
       " (-10.751964445301098, 'abbrevi'),\n",
       " (-10.751964445301098, 'abbv'),\n",
       " (-10.751964445301098, 'abbvi'),\n",
       " (-10.751964445301098, 'abdomen'),\n",
       " (-10.751964445301098, 'abet'),\n",
       " (-10.751964445301098, 'abhei'),\n",
       " (-10.751964445301098, 'abinash'),\n",
       " (-10.751964445301098, 'ableism'),\n",
       " (-10.751964445301098, 'aboard'),\n",
       " (-10.751964445301098, 'abolish'),\n",
       " (-10.751964445301098, 'abraham'),\n",
       " (-10.751964445301098, 'abromavich'),\n",
       " (-10.751964445301098, 'abrupt'),\n",
       " (-10.751964445301098, 'absent'),\n",
       " (-10.751964445301098, 'absurd'),\n",
       " (-10.751964445301098, 'abuzz'),\n",
       " (-10.751964445301098, 'academictwitt'),\n",
       " (-10.751964445301098, 'accel'),\n",
       " (-10.751964445301098, 'accessori'),\n",
       " (-10.751964445301098, 'acco'),\n",
       " (-10.751964445301098, 'accompani'),\n",
       " (-10.751964445301098, 'accredit'),\n",
       " (-10.751964445301098, 'accu'),\n",
       " (-10.751964445301098, 'accuraci'),\n",
       " (-10.751964445301098, 'accusatori'),\n",
       " (-10.751964445301098, 'acl'),\n",
       " (-10.751964445301098, 'aclu'),\n",
       " (-10.751964445301098, 'acro'),\n",
       " (-10.751964445301098, 'adar'),\n",
       " (-10.751964445301098, 'addi'),\n",
       " (-10.751964445301098, 'addictio'),\n",
       " (-10.751964445301098, 'addison'),\n",
       " (-10.751964445301098, 'additio'),\n",
       " (-10.751964445301098, 'addr'),\n",
       " (-10.751964445301098, 'adel')]"
      ]
     },
     "execution_count": 42,
     "metadata": {},
     "output_type": "execute_result"
    }
   ],
   "source": [
    "### Most fake\n",
    "sorted(zip(classifier.coef_[0], feature_names))[:50]"
   ]
  },
  {
   "cell_type": "code",
   "execution_count": 48,
   "id": "10ce86c2-06ba-4090-8f74-48f161325169",
   "metadata": {},
   "outputs": [
    {
     "name": "stdout",
     "output_type": "stream",
     "text": [
      "[0]\n",
      "The news is Real\n"
     ]
    }
   ],
   "source": [
    "X_new = X_test[6]\n",
    "\n",
    "prediction = model.predict(X_new)\n",
    "print(prediction)\n",
    "\n",
    "if (prediction[0]==0):\n",
    "  print('The news is Real')\n",
    "else:\n",
    "  print('The news is Fake')"
   ]
  },
  {
   "cell_type": "markdown",
   "id": "ee19104f-7ebb-4fd1-a7c1-2d8ce5e55202",
   "metadata": {},
   "source": [
    "### Model Testing With Manual Entry"
   ]
  },
  {
   "cell_type": "code",
   "execution_count": 114,
   "id": "40a46d26-173b-47f1-a5c5-9289a4aa435b",
   "metadata": {},
   "outputs": [],
   "source": [
    "def output_lable(n):\n",
    "    if n == 1:\n",
    "        return \"Fake News\"\n",
    "    elif n == 0:\n",
    "        return \"Not A Fake News\"\n",
    "    \n",
    "def manual_testing(news):\n",
    "    testing_news = {\"text\":[news]}\n",
    "    new_def_test = pd.DataFrame(testing_news)\n",
    "    new_x_test = new_def_test[\"text\"]\n",
    "    new_xv_test = vectorizer.transform(new_x_test)\n",
    "    pred_lr = lr_model.predict(new_xv_test)\n",
    "    pred_mnb = mnb_clf.predict(new_xv_test)\n",
    "    pred_pa = pa_clf.predict(new_xv_test)\n",
    "    pred_dt = dt_clf.predict(new_xv_test)\n",
    "    pred_gb = gb_clf.predict(new_xv_test)\n",
    "    pred_rf = rf_clf.predict(new_xv_test)\n",
    "    pred_svm = svm_model.predict(new_xv_test)\n",
    "\n",
    "    return print(\"\\n\\nlr Prediction: {} \\nmnb Prediction: {} \\npa Prediction: {} \\ndt Prediction: {} \\ngb Prediction: {} \\nrf Prediction: {} \\nsvm Prediction: {}\".format(output_lable(pred_lr[0]), \n",
    "                                                                                                              output_lable(pred_mnb[0]),\n",
    "                                                                                                              output_lable(pred_pa[0]),\n",
    "                                                                                                              output_lable(pred_dt[0]),\n",
    "                                                                                                              output_lable(pred_gb[0]), \n",
    "                                                                                                              output_lable(pred_rf[0]),\n",
    "                                                                                                              output_lable(pred_svm[0])))"
   ]
  },
  {
   "cell_type": "code",
   "execution_count": 115,
   "id": "31f18c7d-f4af-4cf3-990d-1fdb2e9cea5e",
   "metadata": {},
   "outputs": [
    {
     "name": "stdin",
     "output_type": "stream",
     "text": [
      " the bill amp melinda gates foundation predicted the coronavirus could kill m people like months ago lol\n"
     ]
    },
    {
     "name": "stdout",
     "output_type": "stream",
     "text": [
      "\n",
      "\n",
      "lr Prediction: Fake News \n",
      "mnb Prediction: Fake News \n",
      "pa Prediction: Fake News \n",
      "dt Prediction: Fake News \n",
      "gb Prediction: Fake News \n",
      "rf Prediction: Fake News \n",
      "svm Prediction: Fake News\n"
     ]
    }
   ],
   "source": [
    "news = str(input())\n",
    "manual_testing(news)"
   ]
  },
  {
   "cell_type": "code",
   "execution_count": 116,
   "id": "9d3b4af7-16b1-4eb3-9234-ef1975b7cb00",
   "metadata": {},
   "outputs": [
    {
     "name": "stdin",
     "output_type": "stream",
     "text": [
      " note to you need to update your graphic to if you have been to china south korea iran italy japan or washington state or oregon\n"
     ]
    },
    {
     "name": "stdout",
     "output_type": "stream",
     "text": [
      "\n",
      "\n",
      "lr Prediction: Not A Fake News \n",
      "mnb Prediction: Not A Fake News \n",
      "pa Prediction: Not A Fake News \n",
      "dt Prediction: Not A Fake News \n",
      "gb Prediction: Not A Fake News \n",
      "rf Prediction: Fake News \n",
      "svm Prediction: Not A Fake News\n"
     ]
    }
   ],
   "source": [
    "news = str(input())\n",
    "manual_testing(news)"
   ]
  },
  {
   "cell_type": "code",
   "execution_count": null,
   "id": "8bc081e8-d7e4-4f18-8c54-48b1ee0108da",
   "metadata": {},
   "outputs": [],
   "source": []
  }
 ],
 "metadata": {
  "kernelspec": {
   "display_name": "Python [conda env:blhl] *",
   "language": "python",
   "name": "conda-env-blhl-py"
  },
  "language_info": {
   "codemirror_mode": {
    "name": "ipython",
    "version": 3
   },
   "file_extension": ".py",
   "mimetype": "text/x-python",
   "name": "python",
   "nbconvert_exporter": "python",
   "pygments_lexer": "ipython3",
   "version": "3.7.11"
  }
 },
 "nbformat": 4,
 "nbformat_minor": 5
}
